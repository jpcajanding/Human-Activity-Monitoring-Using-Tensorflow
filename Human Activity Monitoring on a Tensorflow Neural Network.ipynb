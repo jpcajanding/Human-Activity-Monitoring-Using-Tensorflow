{
 "cells": [
  {
   "cell_type": "code",
   "execution_count": 3,
   "metadata": {},
   "outputs": [],
   "source": [
    "#Hi! This is my first Jupyter Notebook publication. So Please report all bugs and improvement"
   ]
  },
  {
   "cell_type": "code",
   "execution_count": 5,
   "metadata": {},
   "outputs": [],
   "source": [
    "#Import all dependencies and define datafiles"
   ]
  },
  {
   "cell_type": "code",
   "execution_count": 6,
   "metadata": {
    "collapsed": true
   },
   "outputs": [],
   "source": [
    "import tensorflow as tf\n",
    "import numpy as np\n",
    "import pandas as pd\n",
    "import os\n",
    "import pickle\n",
    "\n",
    "from sklearn.utils import shuffle\n",
    "from sklearn import preprocessing\n",
    "\n",
    "testfile = r'data\\test.pkl'\n",
    "trainfile = r'data\\train.pkl'"
   ]
  },
  {
   "cell_type": "code",
   "execution_count": 7,
   "metadata": {
    "collapsed": true
   },
   "outputs": [],
   "source": [
    "#Preprocess the data. HAR Data should be saved to a folder named data in the same path. Create a pickle file if not available."
   ]
  },
  {
   "cell_type": "code",
   "execution_count": 8,
   "metadata": {
    "collapsed": true
   },
   "outputs": [],
   "source": [
    "le = preprocessing.LabelEncoder()\n",
    "\n",
    "if not os.path.isfile(testfile):\n",
    "    # read data\n",
    "    test = pd.read_csv(r'data\\test.csv')\n",
    "\n",
    "    # shuffle data\n",
    "    test  = shuffle(test)\n",
    "    test_data = test.drop(['Activity','subject'] , axis=1).values\n",
    "    test_label_raw = test.Activity.values\n",
    "    le.fit(test_label_raw)\n",
    "    test_label = le.transform(test_label_raw)\n",
    "\n",
    "    with open(testfile,'wb') as fp:\n",
    "        pickle.dump([test_label,test_data],fp,-1)\n",
    "        fp.close()\n",
    "\n",
    "if not os.path.isfile(trainfile):\n",
    "    # read data\n",
    "    train = pd.read_csv(r'data\\train.csv')\n",
    "\n",
    "    # shuffle data\n",
    "    train = shuffle(train)\n",
    "    train_data = train.drop(['Activity','subject'] , axis=1).values\n",
    "    train_label_raw = train.Activity.values\n",
    "    le.fit(train_label_raw)\n",
    "    train_label = le.transform(train_label_raw)\n",
    "\n",
    "    with open(trainfile,'wb') as fp:\n",
    "        pickle.dump([train_label,train_data],fp,-1)\n",
    "        fp.close()\n",
    "\n",
    "#load data\n",
    "with open(testfile, 'rb') as fp:\n",
    "    test_label, test_data = pickle.load(fp)\n",
    "    test_data = test_data.astype('float32')\n",
    "    fp.close()\n",
    "\n",
    "with open(trainfile, 'rb') as fp:\n",
    "    train_label, train_data = pickle.load(fp)\n",
    "    fp.close()"
   ]
  },
  {
   "cell_type": "code",
   "execution_count": 10,
   "metadata": {},
   "outputs": [],
   "source": [
    "#Define the ANN Architecure"
   ]
  },
  {
   "cell_type": "code",
   "execution_count": 12,
   "metadata": {
    "collapsed": true
   },
   "outputs": [],
   "source": [
    "n_train, n_input = np.shape(train_data)\n",
    "n_test = test_label.size\n",
    "\n",
    "#set hyperparameters\n",
    "epochs = 500\n",
    "batch_size = 128\n",
    "nhidden1 = 561\n",
    "nhidden2 = 561\n",
    "learning_rate = 0.001\n",
    "dropout = 0.8\n",
    "n_out = 6\n",
    "num_steps = int((n_train/batch_size)*epochs)"
   ]
  },
  {
   "cell_type": "code",
   "execution_count": 13,
   "metadata": {
    "collapsed": true
   },
   "outputs": [],
   "source": [
    "#Convert labels to one hot vector."
   ]
  },
  {
   "cell_type": "code",
   "execution_count": 14,
   "metadata": {
    "collapsed": true
   },
   "outputs": [],
   "source": [
    "num_labels = 6\n",
    "train_labels = np.zeros((n_train,num_labels))\n",
    "train_labels[np.arange(n_train),train_label] = 1.0\n",
    "test_labels = np.zeros((n_test,num_labels))\n",
    "test_labels[np.arange(n_test),test_label] = 1.0"
   ]
  },
  {
   "cell_type": "code",
   "execution_count": 15,
   "metadata": {
    "collapsed": true
   },
   "outputs": [],
   "source": [
    "# Define the model, train and run"
   ]
  },
  {
   "cell_type": "code",
   "execution_count": null,
   "metadata": {},
   "outputs": [
    {
     "name": "stdout",
     "output_type": "stream",
     "text": [
      "1.0.0\n",
      "Minibatch (size=128) loss at step 0: 8163.163086\n",
      "Minibatch accuracy: 23.4%\n",
      "Minibatch (size=128) loss at step 500: 106.480309\n",
      "Minibatch accuracy: 82.8%\n",
      "Minibatch (size=128) loss at step 1000: 37.841370\n",
      "Minibatch accuracy: 89.8%\n",
      "Minibatch (size=128) loss at step 1500: 32.859108\n",
      "Minibatch accuracy: 89.8%\n",
      "Minibatch (size=128) loss at step 2000: 15.160540\n",
      "Minibatch accuracy: 93.8%\n",
      "Minibatch (size=128) loss at step 2500: 22.776842\n",
      "Minibatch accuracy: 92.2%\n",
      "Minibatch (size=128) loss at step 3000: 16.947529\n",
      "Minibatch accuracy: 93.8%\n",
      "Minibatch (size=128) loss at step 3500: 18.122532\n",
      "Minibatch accuracy: 93.8%\n",
      "Minibatch (size=128) loss at step 4000: 6.943687\n",
      "Minibatch accuracy: 95.3%\n"
     ]
    }
   ],
   "source": [
    "graph = tf.Graph()\n",
    "with graph.as_default():\n",
    "    #I really don't know why I need to graph\n",
    "\n",
    "    #training placeholders\n",
    "    tf_train_in = tf.placeholder(tf.float32,shape=(None,n_input))\n",
    "    tf_train_label = tf.placeholder(tf.float32,shape=(None,n_out))\n",
    "\n",
    "    #input to hidden layer\n",
    "    weights_in = tf.Variable(tf.truncated_normal([n_input,nhidden1]))\n",
    "    bias_in = tf.add(tf.Variable(tf.zeros(nhidden1)),0.1)\n",
    "\n",
    "    #hidden1 layer to hidden2 layer\n",
    "    weights_h = tf.Variable(tf.truncated_normal([nhidden1,nhidden2]))\n",
    "    bias_h = tf.add(tf.Variable(tf.zeros(nhidden2)),0.1)\n",
    "\n",
    "    #hidden2 layer to output\n",
    "    weights_out = tf.Variable(tf.truncated_normal([nhidden2,n_out]))\n",
    "    bias_out = tf.add(tf.Variable(tf.zeros(n_out)),0.1)\n",
    "\n",
    "    #model definition\n",
    "    def ANN_model(data, dropout = 0.5):\n",
    "        logits_h1 = tf.add(tf.matmul(data,weights_in),bias_in)\n",
    "        relu_h1 = tf.nn.relu(logits_h1)\n",
    "        drop_h1 = tf.nn.dropout(relu_h1,dropout)\n",
    "\n",
    "        logits_h2 = tf.add(tf.matmul(drop_h1,weights_h),bias_h)\n",
    "        relu_h2 = tf.nn.relu(logits_h2)\n",
    "        drop_h2 = tf.nn.dropout(relu_h2,dropout)\n",
    "\n",
    "        logits = tf.add(tf.matmul(drop_h2,weights_out),bias_out)\n",
    "\n",
    "        return logits, tf.nn.softmax(logits)\n",
    "\n",
    "    train_logits, train_pred = ANN_model(tf_train_in,dropout= dropout)\n",
    "\n",
    "    #define loss function, optimizer, cost\n",
    "    loss = tf.reduce_mean(tf.nn.softmax_cross_entropy_with_logits(logits=train_logits, labels = tf_train_label))\n",
    "    optimizer = tf.train.GradientDescentOptimizer(learning_rate=learning_rate).minimize(loss)\n",
    "\n",
    "    test_logits, test_pred = ANN_model(test_data, dropout= 1.0)\n",
    "\n",
    "def accuracy(predictions, labels):\n",
    "    correct_prediction = tf.equal(tf.argmax(labels, 1), tf.argmax(predictions, 1))\n",
    "    accuracy = tf.reduce_mean(tf.cast(correct_prediction, tf.float32))\n",
    "    return accuracy.eval()*100.0\n",
    "\n",
    "with tf.Session(graph=graph) as session:\n",
    "    tf.global_variables_initializer().run()\n",
    "    print(tf.__version__)\n",
    "    for step in range(num_steps):\n",
    "        offset = (step * batch_size)% (n_train - batch_size)\n",
    "        # Generate a minibatch.\n",
    "        batch_data = train_data[offset:(offset + batch_size), :]\n",
    "        batch_labels = train_labels[offset:(offset + batch_size)]\n",
    "        feed_dict = {tf_train_in:\n",
    "                     batch_data, tf_train_label: batch_labels}\n",
    "        _, l, predictions = session.run(\n",
    "            [optimizer, loss, train_pred], feed_dict=feed_dict)\n",
    "        if (step % 500 == 0):\n",
    "            print(\"Minibatch (size=%d) loss at step %d: %f\" % (batch_size, step, l))\n",
    "            print(\"Minibatch accuracy: %.1f%%\" % accuracy(predictions,\n",
    "                                                          batch_labels))\n",
    "    # Accuracy: 91.6%\n",
    "    print(\"Test accuracy: %.1f%%\" % accuracy(test_pred.eval(),\n",
    "                                             test_labels))"
   ]
  },
  {
   "cell_type": "code",
   "execution_count": null,
   "metadata": {
    "collapsed": true
   },
   "outputs": [],
   "source": []
  }
 ],
 "metadata": {
  "kernelspec": {
   "display_name": "Python 3",
   "language": "python",
   "name": "python3"
  },
  "language_info": {
   "codemirror_mode": {
    "name": "ipython",
    "version": 3
   },
   "file_extension": ".py",
   "mimetype": "text/x-python",
   "name": "python",
   "nbconvert_exporter": "python",
   "pygments_lexer": "ipython3",
   "version": "3.5.2"
  }
 },
 "nbformat": 4,
 "nbformat_minor": 2
}
